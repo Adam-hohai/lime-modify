{
 "cells": [
  {
   "cell_type": "code",
   "execution_count": 1,
   "metadata": {
    "collapsed": true
   },
   "outputs": [
    {
     "data": {
      "text/plain": "(155, 20)"
     },
     "execution_count": 1,
     "metadata": {},
     "output_type": "execute_result"
    }
   ],
   "source": [
    "import pandas as pd\n",
    "import numpy as np\n",
    "from sklearn.preprocessing import LabelEncoder\n",
    "import warnings\n",
    "\n",
    "warnings.filterwarnings('ignore')\n",
    "import sys\n",
    "\n",
    "sys.path.append('..')\n",
    "\n",
    "hepatitis = pd.read_csv('HepatitisDataset/hepatitis.csv')\n",
    "hepatitis.shape"
   ]
  },
  {
   "cell_type": "code",
   "execution_count": 2,
   "outputs": [
    {
     "data": {
      "text/plain": "Class  AGE    SEX    STEROID  ANTIVIRALS  FATIGUE  MALAISE  ANOREXIA  LIVER BIG  LIVER FIRM  SPLEEN PALPABLE  SPIDERS  ASCITES  VARICES  BILIRUBIN  ALK PHOSPHATE  SGOT   ALBUMIN  PROTIME  HISTOLOGY\nFalse  False  False  False    False       False    False    False     False      False       False            False    False    False    False      False          False  False    False    False        155\ndtype: int64"
     },
     "execution_count": 2,
     "metadata": {},
     "output_type": "execute_result"
    }
   ],
   "source": [
    "hepatitis.isna().value_counts()"
   ],
   "metadata": {
    "collapsed": false,
    "pycharm": {
     "name": "#%%\n"
    }
   }
  },
  {
   "cell_type": "code",
   "execution_count": 3,
   "outputs": [],
   "source": [
    "hepatitis['Class'] = hepatitis['Class'] - 1"
   ],
   "metadata": {
    "collapsed": false,
    "pycharm": {
     "name": "#%%\n"
    }
   }
  },
  {
   "cell_type": "code",
   "execution_count": 4,
   "outputs": [],
   "source": [
    "X = hepatitis.iloc[:,1:]\n",
    "y = hepatitis['Class']"
   ],
   "metadata": {
    "collapsed": false,
    "pycharm": {
     "name": "#%%\n"
    }
   }
  },
  {
   "cell_type": "code",
   "execution_count": 5,
   "outputs": [],
   "source": [
    "from sklearn.model_selection import train_test_split\n",
    "\n",
    "train, test, labels_train, labels_test = train_test_split(X, y,\n",
    "                                                          train_size=0.8,\n",
    "                                                          random_state=2022,\n",
    "                                                          stratify=y)\n",
    "\n",
    "from imblearn.over_sampling import SMOTE\n",
    "train, labels_train = SMOTE(random_state=2022).fit_resample(train, labels_train)"
   ],
   "metadata": {
    "collapsed": false,
    "pycharm": {
     "name": "#%%\n"
    }
   }
  },
  {
   "cell_type": "code",
   "execution_count": 6,
   "outputs": [
    {
     "data": {
      "text/plain": "array([ 1,  2,  3,  4,  5,  6,  7,  8,  9, 10, 11, 12, 18], dtype=int64)"
     },
     "execution_count": 6,
     "metadata": {},
     "output_type": "execute_result"
    }
   ],
   "source": [
    "categorical_features = np.argwhere(\n",
    "    np.array([len(set(X.iloc[:, x])) for x in range(X.shape[1])]) <= 10).flatten()\n",
    "categorical_features"
   ],
   "metadata": {
    "collapsed": false,
    "pycharm": {
     "name": "#%%\n"
    }
   }
  },
  {
   "cell_type": "code",
   "execution_count": 7,
   "outputs": [
    {
     "data": {
      "text/plain": "array([ 1,  2,  3,  4,  5,  6,  7,  8,  9, 10, 11, 12, 18], dtype=int64)"
     },
     "execution_count": 7,
     "metadata": {},
     "output_type": "execute_result"
    }
   ],
   "source": [
    "categorical_features = np.argwhere(\n",
    "    np.array([len(set(X.iloc[:, x])) for x in range(X.shape[1])]) <= 10).flatten()\n",
    "categorical_features"
   ],
   "metadata": {
    "collapsed": false,
    "pycharm": {
     "name": "#%%\n"
    }
   }
  },
  {
   "cell_type": "code",
   "execution_count": 8,
   "outputs": [
    {
     "name": "stderr",
     "output_type": "stream",
     "text": [
      "Using TensorFlow backend.\n"
     ]
    },
    {
     "data": {
      "text/plain": "RandomForestClassifier(random_state=2022)"
     },
     "execution_count": 8,
     "metadata": {},
     "output_type": "execute_result"
    }
   ],
   "source": [
    "from sklearn.linear_model import LogisticRegression\n",
    "from sklearn.ensemble import RandomForestClassifier\n",
    "from sklearn.ensemble import AdaBoostClassifier\n",
    "from sklearn.ensemble import GradientBoostingClassifier\n",
    "import keras\n",
    "from keras.models import Sequential\n",
    "from keras.optimizers import SGD\n",
    "from keras.layers import Activation, Dense, Dropout\n",
    "from keras.utils import to_categorical\n",
    "\n",
    "model = RandomForestClassifier(random_state=2022)\n",
    "# model = AdaBoostClassifier(random_state=2022)\n",
    "# model = GradientBoostingClassifier(random_state=2022)\n",
    "# labels_train2 = to_categorical(labels_train, 2)\n",
    "# labels_test2 = to_categorical(labels_test, 2)\n",
    "# model = Sequential()\n",
    "# model.add(Dense(32, activation='relu', input_dim=30))\n",
    "# model.add(Dropout(0.2))\n",
    "# model.add(Dense(2, activation='softmax'))\n",
    "# model.compile(loss='binary_crossentropy', optimizer='Adam', metrics=['accuracy'])\n",
    "# model.fit(train, labels_train2, batch_size=32, epochs=50, validation_data=(test, labels_test2))\n",
    "model.fit(train, labels_train)"
   ],
   "metadata": {
    "collapsed": false,
    "pycharm": {
     "name": "#%%\n"
    }
   }
  },
  {
   "cell_type": "code",
   "execution_count": 9,
   "outputs": [
    {
     "data": {
      "text/plain": "array([1, 1, 1, 1, 1], dtype=int64)"
     },
     "execution_count": 9,
     "metadata": {},
     "output_type": "execute_result"
    }
   ],
   "source": [
    "pred_origin = model.predict_proba(test)\n",
    "pred_origin = np.argmax(pred_origin, axis=1)\n",
    "pred_origin[:5]"
   ],
   "metadata": {
    "collapsed": false,
    "pycharm": {
     "name": "#%%\n"
    }
   }
  },
  {
   "cell_type": "code",
   "execution_count": 10,
   "outputs": [
    {
     "data": {
      "text/plain": "array([0.3913763 , 0.06358018, 0.05553548, 0.        , 0.14042234,\n       0.30034904, 0.02861435, 0.08136005, 0.09787342, 0.20141868,\n       0.62481374, 0.5711862 , 0.32902048, 0.70560085, 0.31756432,\n       0.30128886, 1.        , 0.19295612, 0.04428099])"
     },
     "execution_count": 10,
     "metadata": {},
     "output_type": "execute_result"
    }
   ],
   "source": [
    "from sklearn.preprocessing import MinMaxScaler\n",
    "\n",
    "feature_importances = MinMaxScaler().fit_transform(model.feature_importances_.reshape(-1, 1))\n",
    "feature_importances = feature_importances.flatten()\n",
    "feature_importances"
   ],
   "metadata": {
    "collapsed": false,
    "pycharm": {
     "name": "#%%\n"
    }
   }
  },
  {
   "cell_type": "code",
   "execution_count": 11,
   "outputs": [],
   "source": [
    "import lime\n",
    "import lime.lime_tabular\n",
    "\n",
    "feature_names = hepatitis.columns.values.tolist()[1:]\n",
    "explainer = lime.lime_tabular.LimeTabularExplainer(train.values, feature_names=feature_names\n",
    "                                                   , categorical_features=categorical_features\n",
    "                                                   , verbose=False\n",
    "                                                   , mode='classification'\n",
    "                                                   , random_state=2022\n",
    "                                                   # , discretize_continuous = False\n",
    "                                                   , kernel='rational'\n",
    "                                                   )"
   ],
   "metadata": {
    "collapsed": false,
    "pycharm": {
     "name": "#%%\n"
    }
   }
  },
  {
   "cell_type": "code",
   "execution_count": 12,
   "outputs": [
    {
     "name": "stdout",
     "output_type": "stream",
     "text": [
      "4.952085350565988e-05\n",
      "0.9999431865025453\n",
      "{0: [(11, array([0.5])), (16, array([0.49941936])), (13, array([0.38808644])), (12, array([0.36163113])), (0, array([0.360807])), (10, array([0.32141646])), (1, array([0.31514381])), (9, array([0.29792056])), (15, array([0.24565652])), (6, array([0.21086253])), (4, array([0.20546063])), (17, array([0.17070734])), (3, array([0.15913091])), (5, array([0.11161088])), (2, array([0.11142341])), (8, array([0.08620066])), (14, array([0.00389289])), (7, array([0.00038159])), (18, array([0.]))], 1: [(16, array([0.5])), (11, array([0.37339597])), (13, array([0.34535512])), (10, array([0.32892949])), (12, array([0.31759045])), (1, array([0.2984845])), (0, array([0.27759314])), (15, array([0.26692185])), (9, array([0.23447539])), (6, array([0.21136615])), (4, array([0.17596065])), (3, array([0.14849454])), (2, array([0.14701584])), (17, array([0.14403317])), (8, array([0.09752917])), (5, array([0.07539138])), (18, array([0.04420633])), (7, array([0.01791447])), (14, array([0.]))]}\n",
      "[('ASCITES=2', 0.5), ('ALBUMIN > 4.00', 0.4994193617334529), ('BILIRUBIN <= 0.90', 0.38808644203584164), ('VARICES=2', 0.3616311347805132), ('AGE <= 35.00', 0.3608069992854192), ('SPIDERS=2', 0.32141646149556197), ('SEX=2', 0.3151438102115878), ('SPLEEN PALPABLE=2', 0.29792055568643666), ('SGOT <= 30.00', 0.2456565167417221), ('ANOREXIA=2', 0.21086252758491017), ('FATIGUE=2', 0.20546062807862644), ('PROTIME > 52.00', 0.17070734002136284), ('ANTIVIRALS=1', 0.15913090808075803), ('MALAISE=2', 0.11161087863743879), ('STEROID=1', 0.11142340630668124), ('LIVER FIRM=2', 0.08620066046505737), ('ALK PHOSPHATE <= 62.00', 0.0038928925215171856), ('LIVER BIG=2', 0.0003815916897130442), ('HISTOLOGY=1', 0.0)]\n",
      "[0.0, 0.0003815916897130442, 0.0038928925215171856, 0.08620066046505737, 0.11142340630668124, 0.11161087863743879, 0.15913090808075803, 0.17070734002136284, 0.20546062807862644, 0.21086252758491017, 0.2456565167417221, 0.29792055568643666, 0.3151438102115878, 0.32141646149556197, 0.3608069992854192, 0.3616311347805132, 0.38808644203584164, 0.4994193617334529, 0.5]\n",
      "['HISTOLOGY=1', 'LIVER BIG=2', 'ALK PHOSPHATE <= 62.00', 'LIVER FIRM=2', 'STEROID=1', 'MALAISE=2', 'ANTIVIRALS=1', 'PROTIME > 52.00', 'FATIGUE=2', 'ANOREXIA=2', 'SGOT <= 30.00', 'SPLEEN PALPABLE=2', 'SEX=2', 'SPIDERS=2', 'AGE <= 35.00', 'VARICES=2', 'BILIRUBIN <= 0.90', 'ALBUMIN > 4.00', 'ASCITES=2']\n",
      "[('ALBUMIN > 4.00', 0.5), ('ASCITES=2', 0.3733959663950887), ('BILIRUBIN <= 0.90', 0.34535511765948507), ('SPIDERS=2', 0.32892948979308956), ('VARICES=2', 0.31759045355641347), ('SEX=2', 0.2984845027397196), ('AGE <= 35.00', 0.27759314492694187), ('SGOT <= 30.00', 0.26692184949254094), ('SPLEEN PALPABLE=2', 0.2344753886916571), ('ANOREXIA=2', 0.2113661532632472), ('FATIGUE=2', 0.1759606510030098), ('ANTIVIRALS=1', 0.14849453778652422), ('STEROID=1', 0.1470158427070289), ('PROTIME > 52.00', 0.1440331734652033), ('LIVER FIRM=2', 0.09752916925636364), ('MALAISE=2', 0.07539138087416453), ('HISTOLOGY=1', 0.04420633288293967), ('LIVER BIG=2', 0.017914473244577286), ('ALK PHOSPHATE <= 62.00', 0.0)]\n",
      "[0.0, 0.017914473244577286, 0.04420633288293967, 0.07539138087416453, 0.09752916925636364, 0.1440331734652033, 0.1470158427070289, 0.14849453778652422, 0.1759606510030098, 0.2113661532632472, 0.2344753886916571, 0.26692184949254094, 0.27759314492694187, 0.2984845027397196, 0.31759045355641347, 0.32892948979308956, 0.34535511765948507, 0.3733959663950887, 0.5]\n",
      "['ALK PHOSPHATE <= 62.00', 'LIVER BIG=2', 'HISTOLOGY=1', 'MALAISE=2', 'LIVER FIRM=2', 'PROTIME > 52.00', 'STEROID=1', 'ANTIVIRALS=1', 'FATIGUE=2', 'ANOREXIA=2', 'SPLEEN PALPABLE=2', 'SGOT <= 30.00', 'AGE <= 35.00', 'SEX=2', 'VARICES=2', 'SPIDERS=2', 'BILIRUBIN <= 0.90', 'ASCITES=2', 'ALBUMIN > 4.00']\n"
     ]
    },
    {
     "data": {
      "text/plain": "<Figure size 288x288 with 1 Axes>",
      "image/png": "[encoded data removed]"
     },
     "execution_count": 12,
     "metadata": {},
     "output_type": "execute_result"
    },
    {
     "data": {
      "text/plain": "<Figure size 288x288 with 1 Axes>",
      "image/png": "[encoded data removed]"
     },
     "metadata": {
      "needs_background": "light"
     },
     "output_type": "display_data"
    },
    {
     "data": {
      "text/plain": "<Figure size 288x288 with 1 Axes>",
      "image/png": "[encoded data removed]"
     },
     "metadata": {
      "needs_background": "light"
     },
     "output_type": "display_data"
    }
   ],
   "source": [
    "exp = explainer.explain_instance(test.values[25], model.predict_proba, num_features=19,\n",
    "                                 labels=(0, 1), num_samples=5000\n",
    "                                 , model_regressor='ensemble'\n",
    "                                 )\n",
    "print(exp.local_pred[0])\n",
    "print(exp.local_pred[1])\n",
    "print(exp.local_exp)\n",
    "exp.as_pyplot_figure(label=0)\n",
    "exp.as_pyplot_figure(label=1)"
   ],
   "metadata": {
    "collapsed": false,
    "pycharm": {
     "name": "#%%\n"
    }
   }
  },
  {
   "cell_type": "code",
   "execution_count": 13,
   "outputs": [
    {
     "name": "stdout",
     "output_type": "stream",
     "text": [
      "6\n",
      "     AGE  SEX  STEROID  ANTIVIRALS  FATIGUE  MALAISE  ANOREXIA  LIVER BIG  \\\n",
      "142   51    1        2           2        1        2         2          2   \n",
      "83    67    2        1           2        1        1         2          2   \n",
      "137   38    1        2           2        2        2         2          2   \n",
      "109   33    1        1           2        1        1         2          2   \n",
      "41    23    1        2           2        2        2         2          0   \n",
      "147   70    1        1           2        1        1         1          0   \n",
      "\n",
      "     LIVER FIRM  SPLEEN PALPABLE  SPIDERS  ASCITES  VARICES  BILIRUBIN  \\\n",
      "142           1                1        1        2        1        1.0   \n",
      "83            2                0        0        0        0        1.5   \n",
      "137           1                2        1        2        1        1.6   \n",
      "109           2                2        2        1        2        0.7   \n",
      "41            0                0        0        0        0        4.6   \n",
      "147           0                0        0        0        0        1.7   \n",
      "\n",
      "     ALK PHOSPHATE  SGOT  ALBUMIN  PROTIME  HISTOLOGY  \n",
      "142              0    20      3.0       63          2  \n",
      "83             179    69      2.9        0          1  \n",
      "137            130   140      3.5       56          2  \n",
      "109             63    80      3.0       31          2  \n",
      "41              56    16      4.6        0          1  \n",
      "147            109   528      2.8       35          2  \n"
     ]
    }
   ],
   "source": [
    "top_num = int(test.shape[0] * 0.2)\n",
    "print(top_num)\n",
    "top_index = np.argsort(np.max(model.predict_proba(test), axis=1))[:top_num]\n",
    "top_test = test.iloc[top_index]\n",
    "print(top_test)"
   ],
   "metadata": {
    "collapsed": false,
    "pycharm": {
     "name": "#%%\n"
    }
   }
  },
  {
   "cell_type": "code",
   "execution_count": 14,
   "outputs": [
    {
     "name": "stderr",
     "output_type": "stream",
     "text": [
      "100%|██████████| 31/31 [00:21<00:00,  1.45it/s]"
     ]
    },
    {
     "name": "stdout",
     "output_type": "stream",
     "text": [
      "cos_sim: 0.8001297939698911\n",
      "pearson_sim: 0.5388708460821344\n",
      "j-distance: 0.9228384581525498\n",
      "eucliden_sim: 0.4554739885571641\n"
     ]
    },
    {
     "name": "stderr",
     "output_type": "stream",
     "text": [
      "\n"
     ]
    }
   ],
   "source": [
    "import tqdm as td\n",
    "from sklearn.metrics.pairwise import cosine_similarity\n",
    "from scipy.spatial.distance import pdist\n",
    "pred_lime = []\n",
    "cos_sim_list = []\n",
    "pearson_sim_list = []\n",
    "coef_sort_list = []\n",
    "euclidean_sim = []\n",
    "for k in td.tqdm(test.values):\n",
    "# for k in td.tqdm(top_test.values):\n",
    "    exp = explainer.explain_instance(k, model.predict_proba, num_features=19, labels=(0, 1)\n",
    "                                     ,model_regressor='ensemble'\n",
    "                                     # , inverse_method='ahc'\n",
    "                                     , num_samples=5000\n",
    "                                     # , inverse_method='nn'\n",
    "                                     # , model_regressor='linear'\n",
    "                                     # , model_regressor='DecisionTreeClassifier'\n",
    "                                     )\n",
    "    # print(exp.local_pred)\n",
    "    pred_lime.append([exp.local_pred[0], exp.local_pred[1]])\n",
    "    coef_list = np.zeros(len(feature_names))\n",
    "    # print(len(exp.local_exp))\n",
    "    for i in exp.local_exp:\n",
    "        # print(exp.local_exp[i])\n",
    "        for j in exp.local_exp[i]:\n",
    "            if isinstance(j[1], np.ndarray):\n",
    "                # coef_list[j[0]] += j[1].tolist()[0]\n",
    "                coef_list[j[0]] += abs(j[1].tolist()[0])\n",
    "            else:\n",
    "                # coef_list[j[0]] += j[1]\n",
    "                coef_list[j[0]] += abs(j[1])\n",
    "    coef_list = coef_list / len(exp.local_exp)\n",
    "\n",
    "    sort_index = np.argsort(-np.abs(coef_list))\n",
    "    coef_sort = np.zeros(len(coef_list))\n",
    "    for index, i in enumerate(sort_index):\n",
    "        coef_sort[i] = index\n",
    "    coef_sort_list.append(coef_sort)\n",
    "\n",
    "    coef_list = MinMaxScaler().fit_transform(coef_list.reshape(-1, 1)).flatten()\n",
    "    # print(coef_list)\n",
    "    importance_coef = []\n",
    "    importance_coef.append(feature_importances.tolist())\n",
    "    importance_coef.append(coef_list.tolist())\n",
    "    # print(importance_coef)\n",
    "    # print('cos_sim:', cosine_similarity(importance_coef)[0][1])\n",
    "    cos_sim_list.append(cosine_similarity(importance_coef)[0][1])\n",
    "    pearson_sim_list.append(np.corrcoef(importance_coef)[0][1])\n",
    "    euclidean_sim.append(1 / (1 + np.sqrt(np.sum((np.array(importance_coef[0]) - np.array(importance_coef[1])) ** 2))))\n",
    "print('cos_sim:', np.sum(cos_sim_list) / len(cos_sim_list))\n",
    "pearson_sim_list = np.nan_to_num(pearson_sim_list, nan=0)\n",
    "print('pearson_sim:', np.sum(np.abs(pearson_sim_list)) / len(pearson_sim_list))\n",
    "print('j-distance:', np.average(pdist(np.array(coef_sort_list), 'jaccard')))\n",
    "print('eucliden_sim:', np.sum(euclidean_sim) / len(euclidean_sim))"
   ],
   "metadata": {
    "collapsed": false,
    "pycharm": {
     "name": "#%%\n"
    }
   }
  },
  {
   "cell_type": "code",
   "execution_count": 15,
   "outputs": [
    {
     "data": {
      "text/plain": "array([1, 1, 1, 1, 1], dtype=int64)"
     },
     "execution_count": 15,
     "metadata": {},
     "output_type": "execute_result"
    }
   ],
   "source": [
    "pred_lime = np.argmax(pred_lime, axis=1)\n",
    "pred_lime[:5]"
   ],
   "metadata": {
    "collapsed": false,
    "pycharm": {
     "name": "#%%\n"
    }
   }
  },
  {
   "cell_type": "code",
   "execution_count": 16,
   "outputs": [
    {
     "name": "stdout",
     "output_type": "stream",
     "text": [
      "\n",
      "Classification Report:\n",
      "               precision    recall  f1-score   support\n",
      "\n",
      "           0     0.5000    0.6667    0.5714         6\n",
      "           1     0.9130    0.8400    0.8750        25\n",
      "\n",
      "    accuracy                         0.8065        31\n",
      "   macro avg     0.7065    0.7533    0.7232        31\n",
      "weighted avg     0.8331    0.8065    0.8162        31\n",
      "\n"
     ]
    }
   ],
   "source": [
    "from sklearn.metrics import classification_report\n",
    "\n",
    "print('\\nClassification Report:\\n', classification_report(labels_test, pred_origin, digits=4))"
   ],
   "metadata": {
    "collapsed": false,
    "pycharm": {
     "name": "#%%\n"
    }
   }
  },
  {
   "cell_type": "code",
   "execution_count": 17,
   "outputs": [
    {
     "name": "stdout",
     "output_type": "stream",
     "text": [
      "\n",
      "Classification Report:\n",
      "               precision    recall  f1-score   support\n",
      "\n",
      "           0     0.5000    0.6667    0.5714         6\n",
      "           1     0.9130    0.8400    0.8750        25\n",
      "\n",
      "    accuracy                         0.8065        31\n",
      "   macro avg     0.7065    0.7533    0.7232        31\n",
      "weighted avg     0.8331    0.8065    0.8162        31\n",
      "\n"
     ]
    }
   ],
   "source": [
    "print('\\nClassification Report:\\n', classification_report(labels_test, pred_lime, digits=4))"
   ],
   "metadata": {
    "collapsed": false,
    "pycharm": {
     "name": "#%%\n"
    }
   }
  },
  {
   "cell_type": "code",
   "execution_count": 18,
   "outputs": [
    {
     "name": "stdout",
     "output_type": "stream",
     "text": [
      "\n",
      "Classification Report:\n",
      "               precision    recall  f1-score   support\n",
      "\n",
      "           0     1.0000    1.0000    1.0000         8\n",
      "           1     1.0000    1.0000    1.0000        23\n",
      "\n",
      "    accuracy                         1.0000        31\n",
      "   macro avg     1.0000    1.0000    1.0000        31\n",
      "weighted avg     1.0000    1.0000    1.0000        31\n",
      "\n"
     ]
    }
   ],
   "source": [
    "\n",
    "print('\\nClassification Report:\\n', classification_report(pred_origin, pred_lime, digits=4))\n"
   ],
   "metadata": {
    "collapsed": false,
    "pycharm": {
     "name": "#%%\n"
    }
   }
  }
 ],
 "metadata": {
  "kernelspec": {
   "display_name": "Python 3",
   "language": "python",
   "name": "python3"
  },
  "language_info": {
   "codemirror_mode": {
    "name": "ipython",
    "version": 2
   },
   "file_extension": ".py",
   "mimetype": "text/x-python",
   "name": "python",
   "nbconvert_exporter": "python",
   "pygments_lexer": "ipython2",
   "version": "2.7.6"
  }
 },
 "nbformat": 4,
 "nbformat_minor": 0
}