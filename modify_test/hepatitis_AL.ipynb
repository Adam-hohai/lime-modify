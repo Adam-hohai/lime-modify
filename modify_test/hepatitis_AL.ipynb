{
 "cells": [
  {
   "cell_type": "code",
   "execution_count": 1,
   "metadata": {
    "collapsed": true
   },
   "outputs": [
    {
     "data": {
      "text/plain": "(155, 20)"
     },
     "execution_count": 1,
     "metadata": {},
     "output_type": "execute_result"
    }
   ],
   "source": [
    "import pandas as pd\n",
    "import numpy as np\n",
    "from sklearn.preprocessing import LabelEncoder\n",
    "import warnings\n",
    "\n",
    "warnings.filterwarnings('ignore')\n",
    "import sys\n",
    "\n",
    "sys.path.append('..')\n",
    "\n",
    "hepatitis = pd.read_csv('HepatitisDataset/hepatitis.csv')\n",
    "hepatitis.shape"
   ]
  },
  {
   "cell_type": "code",
   "execution_count": 2,
   "outputs": [
    {
     "data": {
      "text/plain": "Class  AGE    SEX    STEROID  ANTIVIRALS  FATIGUE  MALAISE  ANOREXIA  LIVER BIG  LIVER FIRM  SPLEEN PALPABLE  SPIDERS  ASCITES  VARICES  BILIRUBIN  ALK PHOSPHATE  SGOT   ALBUMIN  PROTIME  HISTOLOGY\nFalse  False  False  False    False       False    False    False     False      False       False            False    False    False    False      False          False  False    False    False        155\ndtype: int64"
     },
     "execution_count": 2,
     "metadata": {},
     "output_type": "execute_result"
    }
   ],
   "source": [
    "hepatitis.isna().value_counts()"
   ],
   "metadata": {
    "collapsed": false,
    "pycharm": {
     "name": "#%%\n"
    }
   }
  },
  {
   "cell_type": "code",
   "execution_count": 3,
   "outputs": [],
   "source": [
    "hepatitis['Class'] = hepatitis['Class'] - 1"
   ],
   "metadata": {
    "collapsed": false,
    "pycharm": {
     "name": "#%%\n"
    }
   }
  },
  {
   "cell_type": "code",
   "execution_count": 4,
   "outputs": [],
   "source": [
    "X = hepatitis.iloc[:,1:]\n",
    "y = hepatitis['Class']"
   ],
   "metadata": {
    "collapsed": false,
    "pycharm": {
     "name": "#%%\n"
    }
   }
  },
  {
   "cell_type": "code",
   "execution_count": 5,
   "outputs": [],
   "source": [
    "from sklearn.model_selection import train_test_split\n",
    "\n",
    "train, test, labels_train, labels_test = train_test_split(X, y,\n",
    "                                                          train_size=0.70, test_size=0.30,\n",
    "                                                          random_state=2022)"
   ],
   "metadata": {
    "collapsed": false,
    "pycharm": {
     "name": "#%%\n"
    }
   }
  },
  {
   "cell_type": "code",
   "execution_count": 6,
   "outputs": [
    {
     "data": {
      "text/plain": "array([ 1,  2,  3,  4,  5,  6,  7,  8,  9, 10, 11, 12, 18], dtype=int64)"
     },
     "execution_count": 6,
     "metadata": {},
     "output_type": "execute_result"
    }
   ],
   "source": [
    "categorical_features = np.argwhere(\n",
    "    np.array([len(set(X.iloc[:, x])) for x in range(X.shape[1])]) <= 10).flatten()\n",
    "categorical_features"
   ],
   "metadata": {
    "collapsed": false,
    "pycharm": {
     "name": "#%%\n"
    }
   }
  },
  {
   "cell_type": "code",
   "execution_count": 7,
   "outputs": [
    {
     "data": {
      "text/plain": "array([ 1,  2,  3,  4,  5,  6,  7,  8,  9, 10, 11, 12, 18], dtype=int64)"
     },
     "execution_count": 7,
     "metadata": {},
     "output_type": "execute_result"
    }
   ],
   "source": [
    "categorical_features = np.argwhere(\n",
    "    np.array([len(set(X.iloc[:, x])) for x in range(X.shape[1])]) <= 10).flatten()\n",
    "categorical_features"
   ],
   "metadata": {
    "collapsed": false,
    "pycharm": {
     "name": "#%%\n"
    }
   }
  },
  {
   "cell_type": "code",
   "execution_count": 8,
   "outputs": [
    {
     "name": "stderr",
     "output_type": "stream",
     "text": [
      "Using TensorFlow backend.\n"
     ]
    },
    {
     "data": {
      "text/plain": "RandomForestClassifier(random_state=2022)"
     },
     "execution_count": 8,
     "metadata": {},
     "output_type": "execute_result"
    }
   ],
   "source": [
    "from sklearn.linear_model import LogisticRegression\n",
    "from sklearn.ensemble import RandomForestClassifier\n",
    "from sklearn.ensemble import AdaBoostClassifier\n",
    "from sklearn.ensemble import GradientBoostingClassifier\n",
    "import keras\n",
    "from keras.models import Sequential\n",
    "from keras.optimizers import SGD\n",
    "from keras.layers import Activation, Dense, Dropout\n",
    "from keras.utils import to_categorical\n",
    "\n",
    "model = RandomForestClassifier(random_state=2022)\n",
    "# model = AdaBoostClassifier(random_state=2022)\n",
    "# model = GradientBoostingClassifier(random_state=2022)\n",
    "# labels_train2 = to_categorical(labels_train, 2)\n",
    "# labels_test2 = to_categorical(labels_test, 2)\n",
    "# model = Sequential()\n",
    "# model.add(Dense(32, activation='relu', input_dim=30))\n",
    "# model.add(Dropout(0.2))\n",
    "# model.add(Dense(2, activation='softmax'))\n",
    "# model.compile(loss='binary_crossentropy', optimizer='Adam', metrics=['accuracy'])\n",
    "# model.fit(train, labels_train2, batch_size=32, epochs=50, validation_data=(test, labels_test2))\n",
    "model.fit(train, labels_train)"
   ],
   "metadata": {
    "collapsed": false,
    "pycharm": {
     "name": "#%%\n"
    }
   }
  },
  {
   "cell_type": "code",
   "execution_count": 9,
   "outputs": [
    {
     "data": {
      "text/plain": "array([1, 1, 1, 1, 0], dtype=int64)"
     },
     "execution_count": 9,
     "metadata": {},
     "output_type": "execute_result"
    }
   ],
   "source": [
    "pred_origin = model.predict_proba(test)\n",
    "pred_origin = np.argmax(pred_origin, axis=1)\n",
    "pred_origin[:5]"
   ],
   "metadata": {
    "collapsed": false,
    "pycharm": {
     "name": "#%%\n"
    }
   }
  },
  {
   "cell_type": "code",
   "execution_count": 10,
   "outputs": [
    {
     "data": {
      "text/plain": "array([0.64126577, 0.07689402, 0.1210462 , 0.        , 0.14167139,\n       0.27816495, 0.07322541, 0.19831977, 0.1942568 , 0.24210851,\n       0.2165928 , 0.51319336, 0.18514314, 1.        , 0.53322414,\n       0.60282448, 0.96812273, 0.27612416, 0.37695105])"
     },
     "execution_count": 10,
     "metadata": {},
     "output_type": "execute_result"
    }
   ],
   "source": [
    "from sklearn.preprocessing import MinMaxScaler\n",
    "\n",
    "feature_importances = MinMaxScaler().fit_transform(model.feature_importances_.reshape(-1, 1))\n",
    "feature_importances = feature_importances.flatten()\n",
    "feature_importances"
   ],
   "metadata": {
    "collapsed": false,
    "pycharm": {
     "name": "#%%\n"
    }
   }
  },
  {
   "cell_type": "code",
   "execution_count": 11,
   "outputs": [],
   "source": [
    "import lime\n",
    "import lime.lime_tabular\n",
    "\n",
    "feature_names = hepatitis.columns.values.tolist()[1:]\n",
    "explainer = lime.lime_tabular.LimeTabularExplainer(train.values, feature_names=feature_names\n",
    "                                                   , categorical_features=categorical_features\n",
    "                                                   , verbose=False\n",
    "                                                   , mode='classification'\n",
    "                                                   , random_state=2022\n",
    "                                                   # , discretize_continuous = False\n",
    "                                                   )"
   ],
   "metadata": {
    "collapsed": false,
    "pycharm": {
     "name": "#%%\n"
    }
   }
  },
  {
   "cell_type": "code",
   "execution_count": 12,
   "outputs": [
    {
     "name": "stdout",
     "output_type": "stream",
     "text": [
      "5.948781734564771e-05\n",
      "0.9456783493788993\n",
      "{0: [(16, 7.816028579356225), (11, -7.0289186571408315), (18, -5.571946681498503), (5, 4.668116488703573), (13, 3.5456988725852727), (0, -2.7643876573046446), (6, 2.71374206902565), (10, 2.0313549977658365), (14, -1.9837862212010553), (7, -1.6376473643256122), (4, 1.3030667118801738), (15, 1.139316575291619), (12, -1.1359254127073546), (8, 0.8473018187958755), (1, 0.81812297890366), (17, -0.7729170272203141), (2, -0.353794778617123), (9, 0.10239934303555878), (3, -0.0950683983058582)], 1: [(16, -3.6245560035831748), (11, 3.1247398654322924), (13, -2.4064429652694637), (18, 2.3428748470923177), (5, -1.6061509196924935), (14, 1.3252714957670415), (7, 1.239647143541901), (10, -1.171002002323332), (4, -1.0584243086749996), (15, -0.8856999156655454), (6, -0.8486048395245502), (1, -0.7859387568114997), (9, 0.6928847086995913), (12, 0.6920530935080855), (8, -0.6776130977046845), (17, 0.27289790731388924), (0, -0.12924620676977194), (2, 0.10850641725873111), (3, -0.06089159027507334)]}\n",
      "[('ALBUMIN <= 2.98', 7.816028579356225), ('ASCITES=2', -7.0289186571408315), ('HISTOLOGY=1', -5.571946681498503), ('MALAISE=1', 4.668116488703573), ('BILIRUBIN > 1.60', 3.5456988725852727), ('32.00 < AGE <= 38.00', -2.7643876573046446), ('ANOREXIA=2', 2.71374206902565), ('SPIDERS=1', 2.0313549977658365), ('ALK PHOSPHATE > 118.25', -1.9837862212010553), ('LIVER BIG=1', -1.6376473643256122), ('FATIGUE=1', 1.3030667118801738), ('SGOT > 117.25', 1.139316575291619), ('VARICES=2', -1.1359254127073546), ('LIVER FIRM=1', 0.8473018187958755), ('SEX=1', 0.81812297890366), ('PROTIME <= 0.00', -0.7729170272203141), ('STEROID=1', -0.353794778617123), ('SPLEEN PALPABLE=2', 0.10239934303555878), ('ANTIVIRALS=2', -0.0950683983058582)]\n",
      "[-0.0950683983058582, 0.10239934303555878, -0.353794778617123, -0.7729170272203141, 0.81812297890366, 0.8473018187958755, -1.1359254127073546, 1.139316575291619, 1.3030667118801738, -1.6376473643256122, -1.9837862212010553, 2.0313549977658365, 2.71374206902565, -2.7643876573046446, 3.5456988725852727, 4.668116488703573, -5.571946681498503, -7.0289186571408315, 7.816028579356225]\n",
      "['ANTIVIRALS=2', 'SPLEEN PALPABLE=2', 'STEROID=1', 'PROTIME <= 0.00', 'SEX=1', 'LIVER FIRM=1', 'VARICES=2', 'SGOT > 117.25', 'FATIGUE=1', 'LIVER BIG=1', 'ALK PHOSPHATE > 118.25', 'SPIDERS=1', 'ANOREXIA=2', '32.00 < AGE <= 38.00', 'BILIRUBIN > 1.60', 'MALAISE=1', 'HISTOLOGY=1', 'ASCITES=2', 'ALBUMIN <= 2.98']\n",
      "[('ALBUMIN <= 2.98', -3.6245560035831748), ('ASCITES=2', 3.1247398654322924), ('BILIRUBIN > 1.60', -2.4064429652694637), ('HISTOLOGY=1', 2.3428748470923177), ('MALAISE=1', -1.6061509196924935), ('ALK PHOSPHATE > 118.25', 1.3252714957670415), ('LIVER BIG=1', 1.239647143541901), ('SPIDERS=1', -1.171002002323332), ('FATIGUE=1', -1.0584243086749996), ('SGOT > 117.25', -0.8856999156655454), ('ANOREXIA=2', -0.8486048395245502), ('SEX=1', -0.7859387568114997), ('SPLEEN PALPABLE=2', 0.6928847086995913), ('VARICES=2', 0.6920530935080855), ('LIVER FIRM=1', -0.6776130977046845), ('PROTIME <= 0.00', 0.27289790731388924), ('32.00 < AGE <= 38.00', -0.12924620676977194), ('STEROID=1', 0.10850641725873111), ('ANTIVIRALS=2', -0.06089159027507334)]\n",
      "[-0.06089159027507334, 0.10850641725873111, -0.12924620676977194, 0.27289790731388924, -0.6776130977046845, 0.6920530935080855, 0.6928847086995913, -0.7859387568114997, -0.8486048395245502, -0.8856999156655454, -1.0584243086749996, -1.171002002323332, 1.239647143541901, 1.3252714957670415, -1.6061509196924935, 2.3428748470923177, -2.4064429652694637, 3.1247398654322924, -3.6245560035831748]\n",
      "['ANTIVIRALS=2', 'STEROID=1', '32.00 < AGE <= 38.00', 'PROTIME <= 0.00', 'LIVER FIRM=1', 'VARICES=2', 'SPLEEN PALPABLE=2', 'SEX=1', 'ANOREXIA=2', 'SGOT > 117.25', 'FATIGUE=1', 'SPIDERS=1', 'LIVER BIG=1', 'ALK PHOSPHATE > 118.25', 'MALAISE=1', 'HISTOLOGY=1', 'BILIRUBIN > 1.60', 'ASCITES=2', 'ALBUMIN <= 2.98']\n"
     ]
    },
    {
     "data": {
      "text/plain": "<Figure size 288x288 with 1 Axes>",
      "image/png": "[encoded data removed]"
     },
     "execution_count": 12,
     "metadata": {},
     "output_type": "execute_result"
    },
    {
     "data": {
      "text/plain": "<Figure size 288x288 with 1 Axes>",
      "image/png": "[encoded data removed]"
     },
     "metadata": {
      "needs_background": "light"
     },
     "output_type": "display_data"
    },
    {
     "data": {
      "text/plain": "<Figure size 288x288 with 1 Axes>",
      "image/png": "[encoded data removed]"
     },
     "metadata": {
      "needs_background": "light"
     },
     "output_type": "display_data"
    }
   ],
   "source": [
    "exp = explainer.explain_instance(test.values[25], model.predict_proba, num_features=19,\n",
    "                                 labels=(0, 1), num_samples=5000\n",
    "                                 # , model_regressor='ensemble'\n",
    "                                 )\n",
    "print(exp.local_pred[0])\n",
    "print(exp.local_pred[1])\n",
    "print(exp.local_exp)\n",
    "exp.as_pyplot_figure(label=0)\n",
    "exp.as_pyplot_figure(label=1)"
   ],
   "metadata": {
    "collapsed": false,
    "pycharm": {
     "name": "#%%\n"
    }
   }
  },
  {
   "cell_type": "code",
   "execution_count": 13,
   "outputs": [
    {
     "name": "stderr",
     "output_type": "stream",
     "text": [
      "100%|██████████| 47/47 [00:35<00:00,  1.31it/s]"
     ]
    },
    {
     "name": "stdout",
     "output_type": "stream",
     "text": [
      "0.6642849052839607\n"
     ]
    },
    {
     "name": "stderr",
     "output_type": "stream",
     "text": [
      "\n"
     ]
    }
   ],
   "source": [
    "import tqdm as td\n",
    "from sklearn.metrics.pairwise import cosine_similarity\n",
    "pred_lime = []\n",
    "cos_sim_list = []\n",
    "for k in td.tqdm(test.values):\n",
    "    exp = explainer.explain_instance(k, model.predict_proba, num_features=19, labels=(0, 1)\n",
    "                                     ,model_regressor='ensemble'\n",
    "                                     , num_samples=5000\n",
    "                                     )\n",
    "    # print(exp.local_pred)\n",
    "    pred_lime.append([exp.local_pred[0], exp.local_pred[1]])\n",
    "    coef_list = np.zeros(len(feature_names))\n",
    "    # print(len(exp.local_exp))\n",
    "    for i in exp.local_exp:\n",
    "        # print(exp.local_exp[i])\n",
    "        for j in exp.local_exp[i]:\n",
    "            if isinstance(j[1], np.ndarray):\n",
    "                coef_list[j[0]] += j[1].tolist()[0]\n",
    "            else:\n",
    "                coef_list[j[0]] += j[1]\n",
    "    coef_list = coef_list / len(exp.local_exp)\n",
    "    coef_list = MinMaxScaler().fit_transform(coef_list.reshape(-1, 1)).flatten()\n",
    "    # print(coef_list)\n",
    "    importance_coef = []\n",
    "    importance_coef.append(feature_importances.tolist())\n",
    "    importance_coef.append(coef_list.tolist())\n",
    "    # print(importance_coef)\n",
    "    # print('cos_sim:', cosine_similarity(importance_coef)[0][1])\n",
    "    cos_sim_list.append(cosine_similarity(importance_coef)[0][1])\n",
    "print(np.sum(cos_sim_list) / len(cos_sim_list))"
   ],
   "metadata": {
    "collapsed": false,
    "pycharm": {
     "name": "#%%\n"
    }
   }
  },
  {
   "cell_type": "code",
   "execution_count": 14,
   "outputs": [
    {
     "data": {
      "text/plain": "array([1, 1, 1, 1, 1], dtype=int64)"
     },
     "execution_count": 14,
     "metadata": {},
     "output_type": "execute_result"
    }
   ],
   "source": [
    "pred_lime = np.argmax(pred_lime, axis=1)\n",
    "pred_lime[:5]"
   ],
   "metadata": {
    "collapsed": false,
    "pycharm": {
     "name": "#%%\n"
    }
   }
  },
  {
   "cell_type": "code",
   "execution_count": 15,
   "outputs": [
    {
     "name": "stdout",
     "output_type": "stream",
     "text": [
      "\n",
      "Classification Report:\n",
      "               precision    recall  f1-score   support\n",
      "\n",
      "           0     0.6000    0.3000    0.4000        10\n",
      "           1     0.8333    0.9459    0.8861        37\n",
      "\n",
      "    accuracy                         0.8085        47\n",
      "   macro avg     0.7167    0.6230    0.6430        47\n",
      "weighted avg     0.7837    0.8085    0.7827        47\n",
      "\n"
     ]
    }
   ],
   "source": [
    "from sklearn.metrics import classification_report\n",
    "\n",
    "print('\\nClassification Report:\\n', classification_report(labels_test, pred_origin, digits=4))"
   ],
   "metadata": {
    "collapsed": false,
    "pycharm": {
     "name": "#%%\n"
    }
   }
  },
  {
   "cell_type": "code",
   "execution_count": 16,
   "outputs": [
    {
     "name": "stdout",
     "output_type": "stream",
     "text": [
      "\n",
      "Classification Report:\n",
      "               precision    recall  f1-score   support\n",
      "\n",
      "           0     0.5000    0.1000    0.1667        10\n",
      "           1     0.8000    0.9730    0.8780        37\n",
      "\n",
      "    accuracy                         0.7872        47\n",
      "   macro avg     0.6500    0.5365    0.5224        47\n",
      "weighted avg     0.7362    0.7872    0.7267        47\n",
      "\n"
     ]
    }
   ],
   "source": [
    "print('\\nClassification Report:\\n', classification_report(labels_test, pred_lime, digits=4))"
   ],
   "metadata": {
    "collapsed": false,
    "pycharm": {
     "name": "#%%\n"
    }
   }
  },
  {
   "cell_type": "code",
   "execution_count": 17,
   "outputs": [
    {
     "name": "stdout",
     "output_type": "stream",
     "text": [
      "\n",
      "Classification Report:\n",
      "               precision    recall  f1-score   support\n",
      "\n",
      "           0     1.0000    0.4000    0.5714         5\n",
      "           1     0.9333    1.0000    0.9655        42\n",
      "\n",
      "    accuracy                         0.9362        47\n",
      "   macro avg     0.9667    0.7000    0.7685        47\n",
      "weighted avg     0.9404    0.9362    0.9236        47\n",
      "\n"
     ]
    }
   ],
   "source": [
    "\n",
    "print('\\nClassification Report:\\n', classification_report(pred_origin, pred_lime, digits=4))\n"
   ],
   "metadata": {
    "collapsed": false,
    "pycharm": {
     "name": "#%%\n"
    }
   }
  }
 ],
 "metadata": {
  "kernelspec": {
   "display_name": "Python 3",
   "language": "python",
   "name": "python3"
  },
  "language_info": {
   "codemirror_mode": {
    "name": "ipython",
    "version": 2
   },
   "file_extension": ".py",
   "mimetype": "text/x-python",
   "name": "python",
   "nbconvert_exporter": "python",
   "pygments_lexer": "ipython2",
   "version": "2.7.6"
  }
 },
 "nbformat": 4,
 "nbformat_minor": 0
}