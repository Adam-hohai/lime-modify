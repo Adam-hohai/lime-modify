{
 "cells": [
  {
   "cell_type": "code",
   "execution_count": 9,
   "metadata": {
    "collapsed": true
   },
   "outputs": [
    {
     "data": {
      "text/plain": "array(['Area', 'Perimeter', 'MajorAxisLength', 'MinorAxisLength',\n       'AspectRation', 'Eccentricity', 'ConvexArea', 'EquivDiameter',\n       'Extent', 'Solidity', 'roundness', 'Compactness', 'ShapeFactor1',\n       'ShapeFactor2', 'ShapeFactor3', 'ShapeFactor4'], dtype=object)"
     },
     "execution_count": 9,
     "metadata": {},
     "output_type": "execute_result"
    }
   ],
   "source": [
    "import numpy as np\n",
    "import warnings\n",
    "warnings.filterwarnings('ignore')\n",
    "import pandas as pd\n",
    "import sys\n",
    "sys.path.append('..')\n",
    "\n",
    "dryBean = pd.read_csv('DryBeanDataset/Dry_Bean_Dataset.csv')\n",
    "dryBean.head()\n",
    "dryBean.columns[:-1].values"
   ]
  },
  {
   "cell_type": "code",
   "execution_count": 2,
   "outputs": [
    {
     "data": {
      "text/plain": "3    3546\n6    2636\n5    2027\n4    1928\n2    1630\n0    1322\n1     522\nName: Class, dtype: int64"
     },
     "execution_count": 2,
     "metadata": {},
     "output_type": "execute_result"
    }
   ],
   "source": [
    "from sklearn.preprocessing import LabelEncoder\n",
    "\n",
    "le = LabelEncoder()\n",
    "dryBean['Class'] = le.fit_transform(dryBean['Class'])\n",
    "dryBean['Class'].value_counts()"
   ],
   "metadata": {
    "collapsed": false,
    "pycharm": {
     "name": "#%%\n"
    }
   }
  },
  {
   "cell_type": "code",
   "execution_count": 3,
   "outputs": [],
   "source": [
    "from sklearn.preprocessing import MinMaxScaler\n",
    "\n",
    "X = dryBean.iloc[:, :-1]\n",
    "y = dryBean['Class']\n",
    "\n",
    "X = MinMaxScaler().fit_transform(X)"
   ],
   "metadata": {
    "collapsed": false,
    "pycharm": {
     "name": "#%%\n"
    }
   }
  },
  {
   "cell_type": "code",
   "execution_count": 4,
   "outputs": [
    {
     "data": {
      "text/plain": "array([], dtype=int64)"
     },
     "execution_count": 4,
     "metadata": {},
     "output_type": "execute_result"
    }
   ],
   "source": [
    "from sklearn.model_selection import train_test_split\n",
    "\n",
    "train, test, labels_train, labels_test = train_test_split(X, y,\n",
    "                                                          train_size=0.80, test_size=0.20,\n",
    "                                                          random_state=2022)\n",
    "categorical_features = np.argwhere(\n",
    "    np.array([len(set(X[:, x])) for x in range(X.shape[1])]) <= 10).flatten()\n",
    "categorical_features"
   ],
   "metadata": {
    "collapsed": false,
    "pycharm": {
     "name": "#%%\n"
    }
   }
  },
  {
   "cell_type": "code",
   "execution_count": 5,
   "outputs": [
    {
     "name": "stderr",
     "output_type": "stream",
     "text": [
      "Using TensorFlow backend.\n"
     ]
    },
    {
     "data": {
      "text/plain": "RandomForestClassifier(random_state=2022)"
     },
     "execution_count": 5,
     "metadata": {},
     "output_type": "execute_result"
    }
   ],
   "source": [
    "from sklearn.linear_model import LogisticRegression\n",
    "from sklearn.ensemble import RandomForestClassifier\n",
    "from sklearn.ensemble import AdaBoostClassifier\n",
    "from sklearn.ensemble import GradientBoostingClassifier\n",
    "import keras\n",
    "from keras.models import Sequential\n",
    "from keras.optimizers import SGD\n",
    "from keras.layers import Activation, Dense, Dropout\n",
    "from keras.utils import to_categorical\n",
    "\n",
    "model = RandomForestClassifier(random_state=2022)\n",
    "# model = AdaBoostClassifier(random_state=2022)\n",
    "# model = GradientBoostingClassifier(random_state=2022)\n",
    "# labels_train2 = to_categorical(labels_train, 2)\n",
    "# labels_test2 = to_categorical(labels_test, 2)\n",
    "# model = Sequential()\n",
    "# model.add(Dense(32, activation='relu', input_dim=30))\n",
    "# model.add(Dropout(0.2))\n",
    "# model.add(Dense(2, activation='softmax'))\n",
    "# model.compile(loss='binary_crossentropy', optimizer='Adam', metrics=['accuracy'])\n",
    "# model.fit(train, labels_train2, batch_size=32, epochs=50, validation_data=(test, labels_test2))\n",
    "model.fit(train, labels_train)"
   ],
   "metadata": {
    "collapsed": false,
    "pycharm": {
     "name": "#%%\n"
    }
   }
  },
  {
   "cell_type": "code",
   "execution_count": 6,
   "outputs": [
    {
     "data": {
      "text/plain": "array([5, 5, 5, ..., 0, 3, 5], dtype=int64)"
     },
     "execution_count": 6,
     "metadata": {},
     "output_type": "execute_result"
    }
   ],
   "source": [
    "pred_origin = model.predict_proba(test)\n",
    "pred_origin = np.argmax(pred_origin, axis=1)\n",
    "pred_origin"
   ],
   "metadata": {
    "collapsed": false,
    "pycharm": {
     "name": "#%%\n"
    }
   }
  },
  {
   "cell_type": "code",
   "execution_count": 7,
   "outputs": [],
   "source": [
    "import lime\n",
    "import lime.lime_tabular\n",
    "\n",
    "explainer = lime.lime_tabular.LimeTabularExplainer(train, feature_names=dryBean.columns[:-1].values,\n",
    "                                                   categorical_features=categorical_features, verbose=False,\n",
    "                                                   mode='classification', random_state=2022)"
   ],
   "metadata": {
    "collapsed": false,
    "pycharm": {
     "name": "#%%\n"
    }
   }
  },
  {
   "cell_type": "code",
   "execution_count": 8,
   "outputs": [
    {
     "name": "stdout",
     "output_type": "stream",
     "text": [
      "label=0\n",
      "label=1\n"
     ]
    },
    {
     "ename": "ValueError",
     "evalue": "This solver needs samples of at least 2 classes in the data, but the data contains only one class: 0.0",
     "output_type": "error",
     "traceback": [
      "\u001B[1;31m---------------------------------------------------------------------------\u001B[0m",
      "\u001B[1;31mValueError\u001B[0m                                Traceback (most recent call last)",
      "\u001B[1;32m~\\AppData\\Local\\Temp/ipykernel_17208/2868876521.py\u001B[0m in \u001B[0;36m<module>\u001B[1;34m\u001B[0m\n\u001B[0;32m      1\u001B[0m exp = explainer.explain_instance(test[25], model.predict_proba, num_features=16,\n\u001B[1;32m----> 2\u001B[1;33m                                  labels=(0, 1, 2, 3, 4, 5, 6), num_samples=50000)\n\u001B[0m\u001B[0;32m      3\u001B[0m \u001B[0mexp\u001B[0m\u001B[1;33m.\u001B[0m\u001B[0mas_pyplot_figure\u001B[0m\u001B[1;33m(\u001B[0m\u001B[0mlabel\u001B[0m\u001B[1;33m=\u001B[0m\u001B[1;36m3\u001B[0m\u001B[1;33m)\u001B[0m\u001B[1;33m\u001B[0m\u001B[1;33m\u001B[0m\u001B[0m\n",
      "\u001B[1;32mF:\\python_project\\lime-modify\\lime\\lime_tabular.py\u001B[0m in \u001B[0;36mexplain_instance\u001B[1;34m(self, data_row, predict_fn, labels, top_labels, num_features, num_samples, distance_metric, model_regressor, sampling_method)\u001B[0m\n\u001B[0;32m    470\u001B[0m                 \u001B[0mnum_features\u001B[0m\u001B[1;33m,\u001B[0m\u001B[1;33m\u001B[0m\u001B[1;33m\u001B[0m\u001B[0m\n\u001B[0;32m    471\u001B[0m                 \u001B[0mmodel_regressor\u001B[0m\u001B[1;33m=\u001B[0m\u001B[0mmodel_regressor\u001B[0m\u001B[1;33m,\u001B[0m\u001B[1;33m\u001B[0m\u001B[1;33m\u001B[0m\u001B[0m\n\u001B[1;32m--> 472\u001B[1;33m                 feature_selection=self.feature_selection)\n\u001B[0m\u001B[0;32m    473\u001B[0m \u001B[1;33m\u001B[0m\u001B[0m\n\u001B[0;32m    474\u001B[0m         \u001B[1;32mif\u001B[0m \u001B[0mself\u001B[0m\u001B[1;33m.\u001B[0m\u001B[0mmode\u001B[0m \u001B[1;33m==\u001B[0m \u001B[1;34m\"regression\"\u001B[0m\u001B[1;33m:\u001B[0m\u001B[1;33m\u001B[0m\u001B[1;33m\u001B[0m\u001B[0m\n",
      "\u001B[1;32mF:\\python_project\\lime-modify\\lime\\lime_base.py\u001B[0m in \u001B[0;36mexplain_instance_with_data\u001B[1;34m(self, neighborhood_data, neighborhood_labels, distances, label, num_features, feature_selection, model_regressor)\u001B[0m\n\u001B[0;32m    225\u001B[0m                 \u001B[1;32mfor\u001B[0m \u001B[0mi\u001B[0m \u001B[1;32min\u001B[0m \u001B[0mrange\u001B[0m\u001B[1;33m(\u001B[0m\u001B[0mrounds\u001B[0m\u001B[1;33m)\u001B[0m\u001B[1;33m:\u001B[0m\u001B[1;33m\u001B[0m\u001B[1;33m\u001B[0m\u001B[0m\n\u001B[0;32m    226\u001B[0m                     \u001B[1;31m# print(anno_batch)\u001B[0m\u001B[1;33m\u001B[0m\u001B[1;33m\u001B[0m\u001B[1;33m\u001B[0m\u001B[0m\n\u001B[1;32m--> 227\u001B[1;33m                     \u001B[0measy_model\u001B[0m\u001B[1;33m.\u001B[0m\u001B[0mfit\u001B[0m\u001B[1;33m(\u001B[0m\u001B[0mx_train\u001B[0m\u001B[1;33m,\u001B[0m \u001B[0my_train\u001B[0m\u001B[1;33m,\u001B[0m \u001B[0msample_weight\u001B[0m\u001B[1;33m=\u001B[0m\u001B[0mweights\u001B[0m\u001B[1;33m[\u001B[0m\u001B[0mused_index\u001B[0m\u001B[1;33m]\u001B[0m\u001B[1;33m)\u001B[0m\u001B[1;33m\u001B[0m\u001B[1;33m\u001B[0m\u001B[0m\n\u001B[0m\u001B[0;32m    228\u001B[0m                     \u001B[1;31m# prec = easy_model.score(x_train, y_train, sample_weight=weights[used_index])\u001B[0m\u001B[1;33m\u001B[0m\u001B[1;33m\u001B[0m\u001B[1;33m\u001B[0m\u001B[0m\n\u001B[0;32m    229\u001B[0m                     \u001B[0mprec\u001B[0m \u001B[1;33m=\u001B[0m \u001B[0measy_model\u001B[0m\u001B[1;33m.\u001B[0m\u001B[0mscore\u001B[0m\u001B[1;33m(\u001B[0m\u001B[0mneighborhood_data\u001B[0m\u001B[1;33m[\u001B[0m\u001B[1;33m:\u001B[0m\u001B[1;33m,\u001B[0m \u001B[0mused_features\u001B[0m\u001B[1;33m]\u001B[0m\u001B[1;33m,\u001B[0m \u001B[0mlabels_column\u001B[0m\u001B[1;33m,\u001B[0m \u001B[0msample_weight\u001B[0m\u001B[1;33m=\u001B[0m\u001B[0mweights\u001B[0m\u001B[1;33m)\u001B[0m\u001B[1;33m\u001B[0m\u001B[1;33m\u001B[0m\u001B[0m\n",
      "\u001B[1;32mc:\\users\\xiaomi\\appdata\\local\\programs\\python\\python37\\lib\\site-packages\\sklearn\\linear_model\\_logistic.py\u001B[0m in \u001B[0;36mfit\u001B[1;34m(self, X, y, sample_weight)\u001B[0m\n\u001B[0;32m   1374\u001B[0m             raise ValueError(\"This solver needs samples of at least 2 classes\"\n\u001B[0;32m   1375\u001B[0m                              \u001B[1;34m\" in the data, but the data contains only one\"\u001B[0m\u001B[1;33m\u001B[0m\u001B[1;33m\u001B[0m\u001B[0m\n\u001B[1;32m-> 1376\u001B[1;33m                              \" class: %r\" % classes_[0])\n\u001B[0m\u001B[0;32m   1377\u001B[0m \u001B[1;33m\u001B[0m\u001B[0m\n\u001B[0;32m   1378\u001B[0m         \u001B[1;32mif\u001B[0m \u001B[0mlen\u001B[0m\u001B[1;33m(\u001B[0m\u001B[0mself\u001B[0m\u001B[1;33m.\u001B[0m\u001B[0mclasses_\u001B[0m\u001B[1;33m)\u001B[0m \u001B[1;33m==\u001B[0m \u001B[1;36m2\u001B[0m\u001B[1;33m:\u001B[0m\u001B[1;33m\u001B[0m\u001B[1;33m\u001B[0m\u001B[0m\n",
      "\u001B[1;31mValueError\u001B[0m: This solver needs samples of at least 2 classes in the data, but the data contains only one class: 0.0"
     ]
    }
   ],
   "source": [
    "exp = explainer.explain_instance(test[25], model.predict_proba, num_features=16,\n",
    "                                 labels=(0, 1, 2, 3, 4, 5, 6), num_samples=50000)\n",
    "exp.as_pyplot_figure(label=3)"
   ],
   "metadata": {
    "collapsed": false,
    "pycharm": {
     "name": "#%%\n"
    }
   }
  }
 ],
 "metadata": {
  "kernelspec": {
   "display_name": "Python 3",
   "language": "python",
   "name": "python3"
  },
  "language_info": {
   "codemirror_mode": {
    "name": "ipython",
    "version": 2
   },
   "file_extension": ".py",
   "mimetype": "text/x-python",
   "name": "python",
   "nbconvert_exporter": "python",
   "pygments_lexer": "ipython2",
   "version": "2.7.6"
  }
 },
 "nbformat": 4,
 "nbformat_minor": 0
}