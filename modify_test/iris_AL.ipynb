{
 "cells": [
  {
   "cell_type": "code",
   "execution_count": 1,
   "metadata": {
    "collapsed": true
   },
   "outputs": [],
   "source": [
    "import numpy as np\n",
    "from sklearn.datasets import load_iris\n",
    "import warnings\n",
    "\n",
    "warnings.filterwarnings('ignore')\n",
    "\n",
    "iris = load_iris()"
   ]
  },
  {
   "cell_type": "code",
   "execution_count": 2,
   "outputs": [
    {
     "data": {
      "text/plain": "array([0, 0, 0, 0, 0, 0, 0, 0, 0, 0, 0, 0, 0, 0, 0, 0, 0, 0, 0, 0, 0, 0,\n       0, 0, 0, 0, 0, 0, 0, 0, 0, 0, 0, 0, 0, 0, 0, 0, 0, 0, 0, 0, 0, 0,\n       0, 0, 0, 0, 0, 0, 1, 1, 1, 1, 1, 1, 1, 1, 1, 1, 1, 1, 1, 1, 1, 1,\n       1, 1, 1, 1, 1, 1, 1, 1, 1, 1, 1, 1, 1, 1, 1, 1, 1, 1, 1, 1, 1, 1,\n       1, 1, 1, 1, 1, 1, 1, 1, 1, 1, 1, 1, 2, 2, 2, 2, 2, 2, 2, 2, 2, 2,\n       2, 2, 2, 2, 2, 2, 2, 2, 2, 2, 2, 2, 2, 2, 2, 2, 2, 2, 2, 2, 2, 2,\n       2, 2, 2, 2, 2, 2, 2, 2, 2, 2, 2, 2, 2, 2, 2, 2, 2, 2])"
     },
     "execution_count": 2,
     "metadata": {},
     "output_type": "execute_result"
    }
   ],
   "source": [
    "iris.target"
   ],
   "metadata": {
    "collapsed": false,
    "pycharm": {
     "name": "#%%\n"
    }
   }
  },
  {
   "cell_type": "code",
   "execution_count": 3,
   "outputs": [],
   "source": [
    "from sklearn.model_selection import train_test_split\n",
    "\n",
    "train, test, labels_train, labels_test = train_test_split(iris.data, iris.target,\n",
    "                                                          train_size=0.8, test_size=0.2,\n",
    "                                                          random_state=2022)\n",
    "categorical_features = np.argwhere(\n",
    "    np.array([len(set(iris.data[:, x])) for x in range(iris.data.shape[1])]) <= 10).flatten()"
   ],
   "metadata": {
    "collapsed": false,
    "pycharm": {
     "name": "#%%\n"
    }
   }
  },
  {
   "cell_type": "code",
   "execution_count": 4,
   "outputs": [
    {
     "data": {
      "text/plain": "RandomForestClassifier(random_state=2022)"
     },
     "execution_count": 4,
     "metadata": {},
     "output_type": "execute_result"
    }
   ],
   "source": [
    "from sklearn.linear_model import LogisticRegression\n",
    "from sklearn.ensemble import RandomForestClassifier\n",
    "\n",
    "lr = RandomForestClassifier(random_state=2022)\n",
    "lr.fit(train, labels_train)"
   ],
   "metadata": {
    "collapsed": false,
    "pycharm": {
     "name": "#%%\n"
    }
   }
  },
  {
   "cell_type": "code",
   "execution_count": 5,
   "outputs": [],
   "source": [
    "pred_origin = lr.predict_proba(test)\n",
    "pred_origin = np.argmax(pred_origin, axis=1)"
   ],
   "metadata": {
    "collapsed": false,
    "pycharm": {
     "name": "#%%\n"
    }
   }
  },
  {
   "cell_type": "code",
   "execution_count": 6,
   "outputs": [],
   "source": [
    "import sys\n",
    "\n",
    "sys.path.append('..')\n",
    "import lime\n",
    "import lime.lime_tabular\n",
    "\n",
    "explainer = lime.lime_tabular.LimeTabularExplainer(train, feature_names=iris.feature_names,\n",
    "                                                   categorical_features=categorical_features, verbose=False,\n",
    "                                                   mode='classification', random_state=2022)"
   ],
   "metadata": {
    "collapsed": false,
    "pycharm": {
     "name": "#%%\n"
    }
   }
  },
  {
   "cell_type": "code",
   "execution_count": 7,
   "outputs": [
    {
     "name": "stdout",
     "output_type": "stream",
     "text": [
      "0.06954008348136297\n",
      "[('1.30 < petal width (cm) <= 1.80', 1.6725297759020177), ('4.30 < petal length (cm) <= 5.10', 1.094522278116172), ('5.75 < sepal length (cm) <= 6.43', 0.07914768265454465), ('sepal width (cm) <= 2.80', -0.036317855260066687)]\n",
      "[-0.036317855260066687, 0.07914768265454465, 1.094522278116172, 1.6725297759020177]\n",
      "['sepal width (cm) <= 2.80', '5.75 < sepal length (cm) <= 6.43', '4.30 < petal length (cm) <= 5.10', '1.30 < petal width (cm) <= 1.80']\n"
     ]
    },
    {
     "data": {
      "text/plain": "<Figure size 288x288 with 1 Axes>",
      "image/png": "[encoded data removed]"
     },
     "execution_count": 7,
     "metadata": {},
     "output_type": "execute_result"
    },
    {
     "data": {
      "text/plain": "<Figure size 288x288 with 1 Axes>",
      "image/png": "[encoded data removed]"
     },
     "metadata": {
      "needs_background": "light"
     },
     "output_type": "display_data"
    }
   ],
   "source": [
    "exp = explainer.explain_instance(test[25], lr.predict_proba, num_features=4, labels=(0, 1, 2))\n",
    "print(exp.local_pred[0])\n",
    "exp.as_pyplot_figure(label=1)"
   ],
   "metadata": {
    "collapsed": false,
    "pycharm": {
     "name": "#%%\n"
    }
   }
  },
  {
   "cell_type": "code",
   "execution_count": 8,
   "outputs": [
    {
     "name": "stderr",
     "output_type": "stream",
     "text": [
      "100%|██████████| 30/30 [00:16<00:00,  1.79it/s]\n"
     ]
    }
   ],
   "source": [
    "import tqdm as td\n",
    "\n",
    "pred_lime = []\n",
    "for i in td.tqdm(test):\n",
    "    exp = explainer.explain_instance(i, lr.predict_proba, num_features=4, labels=(0, 1, 2)\n",
    "                                     , model_regressor='ensemble'\n",
    "                                     )\n",
    "    # print(exp.local_pred)\n",
    "    pred_lime.append([exp.local_pred[0], exp.local_pred[1], exp.local_pred[2]])"
   ],
   "metadata": {
    "collapsed": false,
    "pycharm": {
     "name": "#%%\n"
    }
   }
  },
  {
   "cell_type": "code",
   "execution_count": 9,
   "outputs": [
    {
     "data": {
      "text/plain": "array([2, 2, 0, 2, 0, 0, 1, 1, 0, 1, 1, 2, 1, 2, 2, 1, 1, 1, 2, 1, 0, 1,\n       2, 0, 2, 1, 2, 0, 1, 2], dtype=int64)"
     },
     "execution_count": 9,
     "metadata": {},
     "output_type": "execute_result"
    }
   ],
   "source": [
    "pred_lime = np.argmax(pred_lime, axis=1)\n",
    "pred_lime"
   ],
   "metadata": {
    "collapsed": false,
    "pycharm": {
     "name": "#%%\n"
    }
   }
  },
  {
   "cell_type": "code",
   "execution_count": 10,
   "outputs": [
    {
     "name": "stdout",
     "output_type": "stream",
     "text": [
      "\n",
      "Classification Report:\n",
      "               precision    recall  f1-score   support\n",
      "\n",
      "           0     1.0000    1.0000    1.0000         9\n",
      "           1     0.8000    1.0000    0.8889         8\n",
      "           2     1.0000    0.8462    0.9167        13\n",
      "\n",
      "    accuracy                         0.9333        30\n",
      "   macro avg     0.9333    0.9487    0.9352        30\n",
      "weighted avg     0.9467    0.9333    0.9343        30\n",
      "\n"
     ]
    }
   ],
   "source": [
    "from sklearn.metrics import classification_report\n",
    "\n",
    "print('\\nClassification Report:\\n', classification_report(labels_test, pred_origin, digits=4))"
   ],
   "metadata": {
    "collapsed": false,
    "pycharm": {
     "name": "#%%\n"
    }
   }
  },
  {
   "cell_type": "code",
   "execution_count": 11,
   "outputs": [
    {
     "name": "stdout",
     "output_type": "stream",
     "text": [
      "\n",
      "Classification Report:\n",
      "               precision    recall  f1-score   support\n",
      "\n",
      "           0     1.0000    0.7778    0.8750         9\n",
      "           1     0.6667    1.0000    0.8000         8\n",
      "           2     1.0000    0.8462    0.9167        13\n",
      "\n",
      "    accuracy                         0.8667        30\n",
      "   macro avg     0.8889    0.8746    0.8639        30\n",
      "weighted avg     0.9111    0.8667    0.8731        30\n",
      "\n"
     ]
    }
   ],
   "source": [
    "print('\\nClassification Report:\\n', classification_report(labels_test, pred_lime, digits=4))"
   ],
   "metadata": {
    "collapsed": false,
    "pycharm": {
     "name": "#%%\n"
    }
   }
  },
  {
   "cell_type": "code",
   "execution_count": 12,
   "outputs": [
    {
     "name": "stdout",
     "output_type": "stream",
     "text": [
      "\n",
      "Classification Report:\n",
      "               precision    recall  f1-score   support\n",
      "\n",
      "           0     1.0000    0.7778    0.8750         9\n",
      "           1     0.8333    1.0000    0.9091        10\n",
      "           2     1.0000    1.0000    1.0000        11\n",
      "\n",
      "    accuracy                         0.9333        30\n",
      "   macro avg     0.9444    0.9259    0.9280        30\n",
      "weighted avg     0.9444    0.9333    0.9322        30\n",
      "\n"
     ]
    }
   ],
   "source": [
    "print('\\nClassification Report:\\n', classification_report(pred_origin, pred_lime, digits=4))"
   ],
   "metadata": {
    "collapsed": false,
    "pycharm": {
     "name": "#%%\n"
    }
   }
  }
 ],
 "metadata": {
  "kernelspec": {
   "display_name": "Python 3",
   "language": "python",
   "name": "python3"
  },
  "language_info": {
   "codemirror_mode": {
    "name": "ipython",
    "version": 2
   },
   "file_extension": ".py",
   "mimetype": "text/x-python",
   "name": "python",
   "nbconvert_exporter": "python",
   "pygments_lexer": "ipython2",
   "version": "2.7.6"
  }
 },
 "nbformat": 4,
 "nbformat_minor": 0
}