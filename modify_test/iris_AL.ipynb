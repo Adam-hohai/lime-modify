{
 "cells": [
  {
   "cell_type": "code",
   "execution_count": 1,
   "metadata": {
    "collapsed": true
   },
   "outputs": [],
   "source": [
    "import numpy as np\n",
    "from sklearn.datasets import load_iris\n",
    "\n",
    "iris = load_iris()"
   ]
  },
  {
   "cell_type": "code",
   "execution_count": 2,
   "outputs": [
    {
     "data": {
      "text/plain": "array([0, 0, 0, 0, 0, 0, 0, 0, 0, 0, 0, 0, 0, 0, 0, 0, 0, 0, 0, 0, 0, 0,\n       0, 0, 0, 0, 0, 0, 0, 0, 0, 0, 0, 0, 0, 0, 0, 0, 0, 0, 0, 0, 0, 0,\n       0, 0, 0, 0, 0, 0, 1, 1, 1, 1, 1, 1, 1, 1, 1, 1, 1, 1, 1, 1, 1, 1,\n       1, 1, 1, 1, 1, 1, 1, 1, 1, 1, 1, 1, 1, 1, 1, 1, 1, 1, 1, 1, 1, 1,\n       1, 1, 1, 1, 1, 1, 1, 1, 1, 1, 1, 1, 2, 2, 2, 2, 2, 2, 2, 2, 2, 2,\n       2, 2, 2, 2, 2, 2, 2, 2, 2, 2, 2, 2, 2, 2, 2, 2, 2, 2, 2, 2, 2, 2,\n       2, 2, 2, 2, 2, 2, 2, 2, 2, 2, 2, 2, 2, 2, 2, 2, 2, 2])"
     },
     "execution_count": 2,
     "metadata": {},
     "output_type": "execute_result"
    }
   ],
   "source": [
    "iris.target"
   ],
   "metadata": {
    "collapsed": false,
    "pycharm": {
     "name": "#%%\n"
    }
   }
  },
  {
   "cell_type": "code",
   "execution_count": 3,
   "outputs": [],
   "source": [
    "from sklearn.model_selection import train_test_split\n",
    "\n",
    "train, test, labels_train, labels_test = train_test_split(iris.data, iris.target,\n",
    "                                                          train_size=0.70, test_size=0.30,\n",
    "                                                          random_state=2022)\n",
    "categorical_features = np.argwhere(\n",
    "    np.array([len(set(iris.data[:, x])) for x in range(iris.data.shape[1])]) <= 10).flatten()"
   ],
   "metadata": {
    "collapsed": false,
    "pycharm": {
     "name": "#%%\n"
    }
   }
  },
  {
   "cell_type": "code",
   "execution_count": 4,
   "outputs": [
    {
     "data": {
      "text/plain": "RandomForestClassifier(random_state=2022)"
     },
     "execution_count": 4,
     "metadata": {},
     "output_type": "execute_result"
    }
   ],
   "source": [
    "from sklearn.linear_model import LogisticRegression\n",
    "from sklearn.ensemble import RandomForestClassifier\n",
    "\n",
    "lr = RandomForestClassifier(random_state=2022)\n",
    "lr.fit(train, labels_train)"
   ],
   "metadata": {
    "collapsed": false,
    "pycharm": {
     "name": "#%%\n"
    }
   }
  },
  {
   "cell_type": "code",
   "execution_count": 5,
   "outputs": [],
   "source": [
    "pred_origin = lr.predict_proba(test)\n",
    "pred_origin = np.argmax(pred_origin, axis=1)"
   ],
   "metadata": {
    "collapsed": false,
    "pycharm": {
     "name": "#%%\n"
    }
   }
  },
  {
   "cell_type": "code",
   "execution_count": 6,
   "outputs": [],
   "source": [
    "import sys\n",
    "sys.path.append('..')\n",
    "import lime\n",
    "import lime.lime_tabular\n",
    "\n",
    "explainer = lime.lime_tabular.LimeTabularExplainer(train, feature_names=iris.feature_names,\n",
    "                                                   categorical_features=categorical_features, verbose=False,\n",
    "                                                   mode='classification', random_state=2022)"
   ],
   "metadata": {
    "collapsed": false,
    "pycharm": {
     "name": "#%%\n"
    }
   }
  },
  {
   "cell_type": "code",
   "execution_count": 7,
   "outputs": [
    {
     "name": "stdout",
     "output_type": "stream",
     "text": [
      "[('1.30 < petal width (cm) <= 1.80', 1.6846474671169265), ('4.40 < petal length (cm) <= 5.10', 0.6679414163047505), ('sepal width (cm) <= 2.80', -0.46634727295072903), ('5.80 < sepal length (cm) <= 6.50', 0.20058310625557826)]\n",
      "[0.20058310625557826, -0.46634727295072903, 0.6679414163047505, 1.6846474671169265]\n",
      "['5.80 < sepal length (cm) <= 6.50', 'sepal width (cm) <= 2.80', '4.40 < petal length (cm) <= 5.10', '1.30 < petal width (cm) <= 1.80']\n"
     ]
    },
    {
     "data": {
      "text/plain": "<Figure size 288x288 with 1 Axes>",
      "image/png": "[encoded data removed]"
     },
     "execution_count": 7,
     "metadata": {},
     "output_type": "execute_result"
    },
    {
     "data": {
      "text/plain": "<Figure size 288x288 with 1 Axes>",
      "image/png": "[encoded data removed]"
     },
     "metadata": {
      "needs_background": "light"
     },
     "output_type": "display_data"
    }
   ],
   "source": [
    "exp = explainer.explain_instance(test[25], lr.predict_proba, num_features=4, labels=(0, 1, 2))\n",
    "exp.as_pyplot_figure(label=1)"
   ],
   "metadata": {
    "collapsed": false,
    "pycharm": {
     "name": "#%%\n"
    }
   }
  },
  {
   "cell_type": "code",
   "execution_count": 8,
   "outputs": [
    {
     "name": "stderr",
     "output_type": "stream",
     "text": [
      "100%|██████████| 45/45 [00:25<00:00,  1.74it/s]\n"
     ]
    }
   ],
   "source": [
    "import tqdm as td\n",
    "pred_lime = []\n",
    "for i in td.tqdm(test):\n",
    "    exp = explainer.explain_instance(i, lr.predict_proba, num_features=4, labels=(0, 1, 2))\n",
    "    # print(exp.local_pred)\n",
    "    pred_lime.append([exp.local_pred[0].tolist()[0], exp.local_pred[1].tolist()[0], exp.local_pred[2].tolist()[0]])"
   ],
   "metadata": {
    "collapsed": false,
    "pycharm": {
     "name": "#%%\n"
    }
   }
  },
  {
   "cell_type": "code",
   "execution_count": 9,
   "outputs": [
    {
     "data": {
      "text/plain": "array([2, 2, 0, 0, 0, 0, 1, 1, 0, 1, 1, 2, 1, 2, 2, 0, 1, 1, 0, 1, 0, 0,\n       2, 0, 2, 1, 2, 0, 1, 2, 0, 1, 1, 0, 1, 0, 0, 1, 1, 1, 2, 1, 1, 0,\n       2], dtype=int64)"
     },
     "execution_count": 9,
     "metadata": {},
     "output_type": "execute_result"
    }
   ],
   "source": [
    "pred_lime = np.argmax(pred_lime, axis=1)\n",
    "pred_lime"
   ],
   "metadata": {
    "collapsed": false,
    "pycharm": {
     "name": "#%%\n"
    }
   }
  },
  {
   "cell_type": "code",
   "execution_count": 10,
   "outputs": [
    {
     "name": "stdout",
     "output_type": "stream",
     "text": [
      "\n",
      "Classification Report:\n",
      "               precision    recall  f1-score   support\n",
      "\n",
      "           0     1.0000    1.0000    1.0000        14\n",
      "           1     0.8824    1.0000    0.9375        15\n",
      "           2     1.0000    0.8750    0.9333        16\n",
      "\n",
      "    accuracy                         0.9556        45\n",
      "   macro avg     0.9608    0.9583    0.9569        45\n",
      "weighted avg     0.9608    0.9556    0.9555        45\n",
      "\n"
     ]
    }
   ],
   "source": [
    "from sklearn.metrics import classification_report\n",
    "\n",
    "print('\\nClassification Report:\\n', classification_report(labels_test, pred_origin, digits=4))"
   ],
   "metadata": {
    "collapsed": false,
    "pycharm": {
     "name": "#%%\n"
    }
   }
  },
  {
   "cell_type": "code",
   "execution_count": 11,
   "outputs": [
    {
     "name": "stdout",
     "output_type": "stream",
     "text": [
      "\n",
      "Classification Report:\n",
      "               precision    recall  f1-score   support\n",
      "\n",
      "           0     0.8125    0.9286    0.8667        14\n",
      "           1     0.8333    1.0000    0.9091        15\n",
      "           2     1.0000    0.6875    0.8148        16\n",
      "\n",
      "    accuracy                         0.8667        45\n",
      "   macro avg     0.8819    0.8720    0.8635        45\n",
      "weighted avg     0.8861    0.8667    0.8624        45\n",
      "\n"
     ]
    }
   ],
   "source": [
    "print('\\nClassification Report:\\n', classification_report(labels_test, pred_lime, digits=4))"
   ],
   "metadata": {
    "collapsed": false,
    "pycharm": {
     "name": "#%%\n"
    }
   }
  },
  {
   "cell_type": "code",
   "execution_count": 12,
   "outputs": [
    {
     "name": "stdout",
     "output_type": "stream",
     "text": [
      "\n",
      "Classification Report:\n",
      "               precision    recall  f1-score   support\n",
      "\n",
      "           0     0.8125    0.9286    0.8667        14\n",
      "           1     0.9444    1.0000    0.9714        17\n",
      "           2     1.0000    0.7857    0.8800        14\n",
      "\n",
      "    accuracy                         0.9111        45\n",
      "   macro avg     0.9190    0.9048    0.9060        45\n",
      "weighted avg     0.9207    0.9111    0.9104        45\n",
      "\n"
     ]
    }
   ],
   "source": [
    "print('\\nClassification Report:\\n', classification_report(pred_origin, pred_lime, digits=4))"
   ],
   "metadata": {
    "collapsed": false,
    "pycharm": {
     "name": "#%%\n"
    }
   }
  }
 ],
 "metadata": {
  "kernelspec": {
   "display_name": "Python 3",
   "language": "python",
   "name": "python3"
  },
  "language_info": {
   "codemirror_mode": {
    "name": "ipython",
    "version": 2
   },
   "file_extension": ".py",
   "mimetype": "text/x-python",
   "name": "python",
   "nbconvert_exporter": "python",
   "pygments_lexer": "ipython2",
   "version": "2.7.6"
  }
 },
 "nbformat": 4,
 "nbformat_minor": 0
}