{
 "cells": [
  {
   "cell_type": "code",
   "execution_count": 1,
   "metadata": {
    "collapsed": true
   },
   "outputs": [],
   "source": [
    "from sklearn.datasets import load_wine\n",
    "import numpy as np\n",
    "import warnings\n",
    "\n",
    "warnings.filterwarnings('ignore')\n",
    "\n",
    "wine = load_wine()"
   ]
  },
  {
   "cell_type": "code",
   "execution_count": 2,
   "outputs": [
    {
     "data": {
      "text/plain": "(178, 13)"
     },
     "execution_count": 2,
     "metadata": {},
     "output_type": "execute_result"
    }
   ],
   "source": [
    "wine.data.shape"
   ],
   "metadata": {
    "collapsed": false,
    "pycharm": {
     "name": "#%%\n"
    }
   }
  },
  {
   "cell_type": "code",
   "execution_count": 3,
   "outputs": [],
   "source": [
    "from sklearn.model_selection import train_test_split\n",
    "\n",
    "seed = 2033\n",
    "train, test, labels_train, labels_test = train_test_split(wine.data, wine.target,\n",
    "                                                          train_size=0.70, test_size=0.30,\n",
    "                                                          random_state=seed)\n",
    "categorical_features = np.argwhere(\n",
    "    np.array([len(set(wine.data[:, x])) for x in range(wine.data.shape[1])]) <= 10).flatten()"
   ],
   "metadata": {
    "collapsed": false,
    "pycharm": {
     "name": "#%%\n"
    }
   }
  },
  {
   "cell_type": "code",
   "execution_count": 4,
   "outputs": [
    {
     "name": "stderr",
     "output_type": "stream",
     "text": [
      "Using TensorFlow backend.\n"
     ]
    },
    {
     "data": {
      "text/plain": "RandomForestClassifier(random_state=2033)"
     },
     "execution_count": 4,
     "metadata": {},
     "output_type": "execute_result"
    }
   ],
   "source": [
    "from sklearn.linear_model import LogisticRegression\n",
    "from sklearn.ensemble import RandomForestClassifier\n",
    "from sklearn.ensemble import AdaBoostClassifier\n",
    "from sklearn.ensemble import GradientBoostingClassifier\n",
    "import keras\n",
    "from keras.models import Sequential\n",
    "from keras.optimizers import SGD\n",
    "from keras.layers import Activation, Dense, Dropout\n",
    "from keras.utils import to_categorical\n",
    "\n",
    "model = RandomForestClassifier(random_state=seed)\n",
    "# model = AdaBoostClassifier(random_state=2022)\n",
    "# model = GradientBoostingClassifier(random_state=2022)\n",
    "# labels_train2 = to_categorical(labels_train, 2)\n",
    "# labels_test2 = to_categorical(labels_test, 2)\n",
    "# model = Sequential()\n",
    "# model.add(Dense(32, activation='relu', input_dim=30))\n",
    "# model.add(Dropout(0.2))\n",
    "# model.add(Dense(2, activation='softmax'))\n",
    "# model.compile(loss='binary_crossentropy', optimizer='Adam', metrics=['accuracy'])\n",
    "# model.fit(train, labels_train2, batch_size=32, epochs=50, validation_data=(test, labels_test2))\n",
    "model.fit(train, labels_train)"
   ],
   "metadata": {
    "collapsed": false,
    "pycharm": {
     "name": "#%%\n"
    }
   }
  },
  {
   "cell_type": "code",
   "execution_count": 5,
   "outputs": [],
   "source": [
    "pred_origin = model.predict_proba(test)\n",
    "pred_origin = np.argmax(pred_origin, axis=1)"
   ],
   "metadata": {
    "collapsed": false,
    "pycharm": {
     "name": "#%%\n"
    }
   }
  },
  {
   "cell_type": "code",
   "execution_count": 6,
   "outputs": [
    {
     "data": {
      "text/plain": "array([0.5083839 , 0.0929254 , 0.03341446, 0.13822594, 0.02144902,\n       0.2191055 , 1.        , 0.        , 0.11719137, 0.73076141,\n       0.35663745, 0.48858359, 0.69801474])"
     },
     "execution_count": 6,
     "metadata": {},
     "output_type": "execute_result"
    }
   ],
   "source": [
    "from sklearn.preprocessing import MinMaxScaler\n",
    "\n",
    "feature_importances = MinMaxScaler().fit_transform(model.feature_importances_.reshape(-1, 1))\n",
    "feature_importances = feature_importances.flatten()\n",
    "feature_importances\n"
   ],
   "metadata": {
    "collapsed": false,
    "pycharm": {
     "name": "#%%\n"
    }
   }
  },
  {
   "cell_type": "code",
   "execution_count": 7,
   "outputs": [],
   "source": [
    "import sys\n",
    "\n",
    "sys.path.append('..')\n",
    "import lime\n",
    "import lime.lime_tabular\n",
    "\n",
    "explainer = lime.lime_tabular.LimeTabularExplainer(train, feature_names=wine.feature_names,\n",
    "                                                   categorical_features=categorical_features, verbose=False,\n",
    "                                                   mode='classification', random_state=seed\n",
    "                                                   # , discretize_continuous=False\n",
    "                                                   )"
   ],
   "metadata": {
    "collapsed": false,
    "pycharm": {
     "name": "#%%\n"
    }
   }
  },
  {
   "cell_type": "code",
   "execution_count": 8,
   "outputs": [
    {
     "name": "stdout",
     "output_type": "stream",
     "text": [
      "[('color_intensity <= 3.30', 3.075457269713316), ('flavanoids <= 1.07', -2.118298917666576), ('alcohol <= 12.42', 1.5946217137784584), ('510.00 < proline <= 676.50', 0.6803909155588167), ('malic_acid <= 1.61', 0.5594469124250258), ('alcalinity_of_ash <= 17.08', 0.5087009665379036), ('0.94 < hue <= 1.12', 0.5066509003040711), ('ash <= 2.20', 0.49940194061826126), ('od280/od315_of_diluted_wines <= 1.82', -0.4132913579111713), ('1.67 < total_phenols <= 2.20', 0.21397777980735008), ('magnesium <= 89.00', 0.15258824406417437), ('proanthocyanins <= 1.14', 0.12422861246888661), ('0.27 < nonflavanoid_phenols <= 0.34', -0.10895031330691177)]\n",
      "[-0.10895031330691177, 0.12422861246888661, 0.15258824406417437, 0.21397777980735008, -0.4132913579111713, 0.49940194061826126, 0.5066509003040711, 0.5087009665379036, 0.5594469124250258, 0.6803909155588167, 1.5946217137784584, -2.118298917666576, 3.075457269713316]\n",
      "['0.27 < nonflavanoid_phenols <= 0.34', 'proanthocyanins <= 1.14', 'magnesium <= 89.00', '1.67 < total_phenols <= 2.20', 'od280/od315_of_diluted_wines <= 1.82', 'ash <= 2.20', '0.94 < hue <= 1.12', 'alcalinity_of_ash <= 17.08', 'malic_acid <= 1.61', '510.00 < proline <= 676.50', 'alcohol <= 12.42', 'flavanoids <= 1.07', 'color_intensity <= 3.30']\n",
      "0.9816927186066262\n"
     ]
    },
    {
     "data": {
      "text/plain": "<Figure size 288x288 with 1 Axes>",
      "image/png": "[encoded data removed]"
     },
     "metadata": {
      "needs_background": "light"
     },
     "output_type": "display_data"
    }
   ],
   "source": [
    "exp = explainer.explain_instance(test[25], model.predict_proba, num_features=13\n",
    "                                 , labels=(0, 1, 2)\n",
    "                                 # , model_regressor='DecisionTreeClassifier'\n",
    "                                 )\n",
    "exp.as_pyplot_figure(label=1)\n",
    "print(exp.local_pred[1])"
   ],
   "metadata": {
    "collapsed": false,
    "pycharm": {
     "name": "#%%\n"
    }
   }
  },
  {
   "cell_type": "code",
   "execution_count": 9,
   "outputs": [
    {
     "name": "stderr",
     "output_type": "stream",
     "text": [
      "100%|██████████| 54/54 [00:48<00:00,  1.12it/s]"
     ]
    },
    {
     "name": "stdout",
     "output_type": "stream",
     "text": [
      "0.8286529380999973\n"
     ]
    },
    {
     "name": "stderr",
     "output_type": "stream",
     "text": [
      "\n"
     ]
    }
   ],
   "source": [
    "import tqdm as td\n",
    "from sklearn.metrics.pairwise import cosine_similarity\n",
    "\n",
    "pred_lime = []\n",
    "cos_sim_list = []\n",
    "for k in td.tqdm(test):\n",
    "    exp = explainer.explain_instance(k, model.predict_proba, num_features=13, labels=(0, 1, 2)\n",
    "                                     ,model_regressor='ensemble'\n",
    "                                     , num_samples=5000\n",
    "                                     # , model_regressor='DecisionTreeClassifier'\n",
    "                                     )\n",
    "    # print(exp.local_pred)\n",
    "    pred_lime.append([exp.local_pred[0], exp.local_pred[1], exp.local_pred[2]])\n",
    "    coef_list = np.zeros(13)\n",
    "    # print(len(exp.local_exp))\n",
    "    for i in exp.local_exp:\n",
    "        # print(exp.local_exp[i])\n",
    "        for j in exp.local_exp[i]:\n",
    "            if isinstance(j[1], np.ndarray):\n",
    "                coef_list[j[0]] += j[1].tolist()[0]\n",
    "            else:\n",
    "                coef_list[j[0]] += j[1]\n",
    "    coef_list = coef_list / len(exp.local_exp)\n",
    "    coef_list = MinMaxScaler().fit_transform(coef_list.reshape(-1, 1)).flatten()\n",
    "    # print(coef_list)\n",
    "    importance_coef = []\n",
    "    importance_coef.append(feature_importances.tolist())\n",
    "    importance_coef.append(coef_list.tolist())\n",
    "    # print(importance_coef)\n",
    "    # print('cos_sim:', cosine_similarity(importance_coef)[0][1])\n",
    "    cos_sim_list.append(cosine_similarity(importance_coef)[0][1])\n",
    "print(np.sum(cos_sim_list) / len(cos_sim_list))"
   ],
   "metadata": {
    "collapsed": false,
    "pycharm": {
     "name": "#%%\n"
    }
   }
  },
  {
   "cell_type": "code",
   "execution_count": 10,
   "outputs": [],
   "source": [
    "pred_lime = np.argmax(pred_lime, axis=1)\n",
    "# pred_lime"
   ],
   "metadata": {
    "collapsed": false,
    "pycharm": {
     "name": "#%%\n"
    }
   }
  },
  {
   "cell_type": "code",
   "execution_count": 11,
   "outputs": [
    {
     "name": "stdout",
     "output_type": "stream",
     "text": [
      "\n",
      "Classification Report:\n",
      "               precision    recall  f1-score   support\n",
      "\n",
      "           0     1.0000    1.0000    1.0000        19\n",
      "           1     1.0000    1.0000    1.0000        23\n",
      "           2     1.0000    1.0000    1.0000        12\n",
      "\n",
      "    accuracy                         1.0000        54\n",
      "   macro avg     1.0000    1.0000    1.0000        54\n",
      "weighted avg     1.0000    1.0000    1.0000        54\n",
      "\n"
     ]
    }
   ],
   "source": [
    "from sklearn.metrics import classification_report\n",
    "\n",
    "print('\\nClassification Report:\\n', classification_report(labels_test, pred_origin, digits=4))"
   ],
   "metadata": {
    "collapsed": false,
    "pycharm": {
     "name": "#%%\n"
    }
   }
  },
  {
   "cell_type": "code",
   "execution_count": 12,
   "outputs": [
    {
     "name": "stdout",
     "output_type": "stream",
     "text": [
      "\n",
      "Classification Report:\n",
      "               precision    recall  f1-score   support\n",
      "\n",
      "           0     1.0000    0.9474    0.9730        19\n",
      "           1     0.9200    1.0000    0.9583        23\n",
      "           2     1.0000    0.9167    0.9565        12\n",
      "\n",
      "    accuracy                         0.9630        54\n",
      "   macro avg     0.9733    0.9547    0.9626        54\n",
      "weighted avg     0.9659    0.9630    0.9631        54\n",
      "\n"
     ]
    }
   ],
   "source": [
    "print('\\nClassification Report:\\n', classification_report(labels_test, pred_lime, digits=4))"
   ],
   "metadata": {
    "collapsed": false,
    "pycharm": {
     "name": "#%%\n"
    }
   }
  },
  {
   "cell_type": "code",
   "execution_count": 13,
   "outputs": [
    {
     "name": "stdout",
     "output_type": "stream",
     "text": [
      "\n",
      "Classification Report:\n",
      "               precision    recall  f1-score   support\n",
      "\n",
      "           0     1.0000    0.9474    0.9730        19\n",
      "           1     0.9200    1.0000    0.9583        23\n",
      "           2     1.0000    0.9167    0.9565        12\n",
      "\n",
      "    accuracy                         0.9630        54\n",
      "   macro avg     0.9733    0.9547    0.9626        54\n",
      "weighted avg     0.9659    0.9630    0.9631        54\n",
      "\n"
     ]
    }
   ],
   "source": [
    "print('\\nClassification Report:\\n', classification_report(pred_origin, pred_lime, digits=4))"
   ],
   "metadata": {
    "collapsed": false,
    "pycharm": {
     "name": "#%%\n"
    }
   }
  }
 ],
 "metadata": {
  "kernelspec": {
   "display_name": "Python 3",
   "language": "python",
   "name": "python3"
  },
  "language_info": {
   "codemirror_mode": {
    "name": "ipython",
    "version": 2
   },
   "file_extension": ".py",
   "mimetype": "text/x-python",
   "name": "python",
   "nbconvert_exporter": "python",
   "pygments_lexer": "ipython2",
   "version": "2.7.6"
  }
 },
 "nbformat": 4,
 "nbformat_minor": 0
}